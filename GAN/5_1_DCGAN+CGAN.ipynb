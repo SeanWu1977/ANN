{
  "nbformat": 4,
  "nbformat_minor": 0,
  "metadata": {
    "colab": {
      "name": "5-1_DCGAN+CGAN.ipynb",
      "provenance": []
    },
    "kernelspec": {
      "name": "python3",
      "display_name": "Python 3"
    },
    "language_info": {
      "codemirror_mode": {
        "name": "ipython",
        "version": 3
      },
      "file_extension": ".py",
      "mimetype": "text/x-python",
      "name": "python",
      "nbconvert_exporter": "python",
      "pygments_lexer": "ipython3",
      "version": "3.6.2"
    },
    "accelerator": "GPU"
  },
  "cells": [
    {
      "cell_type": "code",
      "metadata": {
        "colab_type": "code",
        "id": "d4-7Sg-in4Fc",
        "colab": {
          "base_uri": "https://localhost:8080/",
          "height": 80
        },
        "outputId": "e6df46a5-707f-4213-c845-343c60013a93"
      },
      "source": [
        "from keras.datasets import mnist\n",
        "import numpy as np\n",
        "%matplotlib inline\n",
        "# 我們會使用到一些內建的資料庫, MAC需要加入以下兩行, 才不會把對方的ssl憑證視為無效\n",
        "import ssl\n",
        "ssl._create_default_https_context = ssl._create_unverified_context"
      ],
      "execution_count": 1,
      "outputs": [
        {
          "output_type": "stream",
          "text": [
            "Using TensorFlow backend.\n"
          ],
          "name": "stderr"
        },
        {
          "output_type": "display_data",
          "data": {
            "text/html": [
              "<p style=\"color: red;\">\n",
              "The default version of TensorFlow in Colab will soon switch to TensorFlow 2.x.<br>\n",
              "We recommend you <a href=\"https://www.tensorflow.org/guide/migrate\" target=\"_blank\">upgrade</a> now \n",
              "or ensure your notebook will continue to use TensorFlow 1.x via the <code>%tensorflow_version 1.x</code> magic:\n",
              "<a href=\"https://colab.research.google.com/notebooks/tensorflow_version.ipynb\" target=\"_blank\">more info</a>.</p>\n"
            ],
            "text/plain": [
              "<IPython.core.display.HTML object>"
            ]
          },
          "metadata": {
            "tags": []
          }
        }
      ]
    },
    {
      "cell_type": "code",
      "metadata": {
        "colab_type": "code",
        "id": "8VS6oyz7o_XR",
        "colab": {
          "base_uri": "https://localhost:8080/",
          "height": 51
        },
        "outputId": "df8af4c0-3d8f-4f8d-fc37-dc09bd81aa74"
      },
      "source": [
        "# 回傳值: ((訓練特徵, 訓練目標), (測試特徵, 測試目標))\n",
        "(x_train, y_train),(x_test, y_test) = mnist.load_data()"
      ],
      "execution_count": 2,
      "outputs": [
        {
          "output_type": "stream",
          "text": [
            "Downloading data from https://s3.amazonaws.com/img-datasets/mnist.npz\n",
            "11493376/11490434 [==============================] - 1s 0us/step\n"
          ],
          "name": "stdout"
        }
      ]
    },
    {
      "cell_type": "code",
      "metadata": {
        "colab_type": "code",
        "id": "WePoNslhoBHK",
        "outputId": "fb49c720-ef70-4d28-dfd0-73c6be871d8a",
        "colab": {
          "base_uri": "https://localhost:8080/",
          "height": 34
        }
      },
      "source": [
        "x_train.shape"
      ],
      "execution_count": 3,
      "outputs": [
        {
          "output_type": "execute_result",
          "data": {
            "text/plain": [
              "(60000, 28, 28)"
            ]
          },
          "metadata": {
            "tags": []
          },
          "execution_count": 3
        }
      ]
    },
    {
      "cell_type": "code",
      "metadata": {
        "colab_type": "code",
        "id": "0lQjIJcHoDCC",
        "colab": {}
      },
      "source": [
        "from keras.utils import np_utils\n",
        "# reshape讓他從 32 * 32變成 784 * 1的一維陣列\n",
        "# 讓我們標準化到-1~1區間\n",
        "x_train_shaped = (x_train - 127.5)/127.5\n",
        "x_test_shaped = (x_test - 127.5)/127.5"
      ],
      "execution_count": 0,
      "outputs": []
    },
    {
      "cell_type": "code",
      "metadata": {
        "id": "jMVGaEuS7gKV",
        "colab_type": "code",
        "colab": {
          "base_uri": "https://localhost:8080/",
          "height": 51
        },
        "outputId": "f045bfcc-0afe-4eb5-eb3e-e54a485a3d91"
      },
      "source": [
        "print('原本的y_train shape:', y_train.shape)\n",
        "y_train"
      ],
      "execution_count": 5,
      "outputs": [
        {
          "output_type": "stream",
          "text": [
            "原本的y_train shape: (60000,)\n"
          ],
          "name": "stdout"
        },
        {
          "output_type": "execute_result",
          "data": {
            "text/plain": [
              "array([5, 0, 4, ..., 5, 6, 8], dtype=uint8)"
            ]
          },
          "metadata": {
            "tags": []
          },
          "execution_count": 5
        }
      ]
    },
    {
      "cell_type": "code",
      "metadata": {
        "id": "LswOv2yr7gKY",
        "colab_type": "code",
        "colab": {
          "base_uri": "https://localhost:8080/",
          "height": 153
        },
        "outputId": "47ac1a00-4929-4d82-93cb-e882715091c9"
      },
      "source": [
        "# 這裡reshape比較特別的參數是-1\n",
        "# nparray的reshape容許你填入一個-1\n",
        "# -1是指會自動幫你算出-1該等於多少\n",
        "# ex (2, 3) reshape (-1, 1) 相當於reshape成(6, 1)\n",
        "y_train = y_train.reshape(-1, 1)\n",
        "print('後來的y_train shape:', y_train.shape)\n",
        "y_train"
      ],
      "execution_count": 6,
      "outputs": [
        {
          "output_type": "stream",
          "text": [
            "後來的y_train shape: (60000, 1)\n"
          ],
          "name": "stdout"
        },
        {
          "output_type": "execute_result",
          "data": {
            "text/plain": [
              "array([[5],\n",
              "       [0],\n",
              "       [4],\n",
              "       ...,\n",
              "       [5],\n",
              "       [6],\n",
              "       [8]], dtype=uint8)"
            ]
          },
          "metadata": {
            "tags": []
          },
          "execution_count": 6
        }
      ]
    },
    {
      "cell_type": "code",
      "metadata": {
        "colab_type": "code",
        "id": "RfuFACAMn7Kk",
        "colab": {}
      },
      "source": [
        "img_shape = (28, 28)\n",
        "random_dim = 100"
      ],
      "execution_count": 0,
      "outputs": []
    },
    {
      "cell_type": "code",
      "metadata": {
        "colab_type": "code",
        "id": "-61SI4LAoFSE",
        "outputId": "8ccd1e44-61b3-43a6-842d-b0a519611205",
        "colab": {
          "base_uri": "https://localhost:8080/",
          "height": 493
        }
      },
      "source": [
        "from keras.layers import Input\n",
        "from keras.models import Model, Sequential\n",
        "from keras.layers.core import Reshape, Dense, Dropout, Flatten\n",
        "from keras.layers import Embedding, multiply, BatchNormalization, UpSampling2D, Conv2D\n",
        "# 這裡跟我們GAN的創作家一模一樣\n",
        "generator = Sequential()\n",
        "# 先讓100隨機亂數可以變成 7 * 7 * 128\n",
        "# 為何是 7 * 7呢?\n",
        "# 因為 7 *7 -> (第一次轉置) 14 * 14 -> (第二次轉置) 28 * 28\n",
        "# 128則是使用類似VGG的概念, 選擇128開始\n",
        "generator.add(Dense(7 * 7 * 128, input_dim=random_dim, activation='relu'))\n",
        "# 轉換成三維\n",
        "generator.add(Reshape((7, 7, 128)))\n",
        "# 上採樣, 長寬變兩倍\n",
        "generator.add(UpSampling2D(size=(2, 2)))\n",
        "# (4, 4)卷積窗的卷積, 之所以做(4, 4)是為了跟discriminator配合, 我們等discriminator再談\n",
        "generator.add(Conv2D(128, kernel_size=(4, 4), activation='relu', padding='same'))\n",
        "# 卷積層間我喜歡使用BN來normalize\n",
        "generator.add(BatchNormalization())\n",
        "generator.add(UpSampling2D(size=(2, 2)))\n",
        "generator.add(Conv2D(64, kernel_size=(4, 4), activation='relu', padding='same'))\n",
        "generator.add(BatchNormalization())\n",
        "# 最後讓filter數目回到1, 因為是灰階圖片, 最後輸出 28 * 28 * 1圖片\n",
        "# 一樣使用tanh(-1 - 1)作為激活\n",
        "generator.add(Conv2D(1, kernel_size=(4, 4), activation='tanh', padding='same'))\n",
        "generator.add(Reshape((28, 28)))\n",
        "generator.summary()\n"
      ],
      "execution_count": 20,
      "outputs": [
        {
          "output_type": "stream",
          "text": [
            "Model: \"sequential_3\"\n",
            "_________________________________________________________________\n",
            "Layer (type)                 Output Shape              Param #   \n",
            "=================================================================\n",
            "dense_4 (Dense)              (None, 6272)              633472    \n",
            "_________________________________________________________________\n",
            "reshape_5 (Reshape)          (None, 7, 7, 128)         0         \n",
            "_________________________________________________________________\n",
            "up_sampling2d_3 (UpSampling2 (None, 14, 14, 128)       0         \n",
            "_________________________________________________________________\n",
            "conv2d_7 (Conv2D)            (None, 14, 14, 128)       262272    \n",
            "_________________________________________________________________\n",
            "batch_normalization_6 (Batch (None, 14, 14, 128)       512       \n",
            "_________________________________________________________________\n",
            "up_sampling2d_4 (UpSampling2 (None, 28, 28, 128)       0         \n",
            "_________________________________________________________________\n",
            "conv2d_8 (Conv2D)            (None, 28, 28, 64)        131136    \n",
            "_________________________________________________________________\n",
            "batch_normalization_7 (Batch (None, 28, 28, 64)        256       \n",
            "_________________________________________________________________\n",
            "conv2d_9 (Conv2D)            (None, 28, 28, 1)         1025      \n",
            "_________________________________________________________________\n",
            "reshape_6 (Reshape)          (None, 28, 28)            0         \n",
            "=================================================================\n",
            "Total params: 1,028,673\n",
            "Trainable params: 1,028,289\n",
            "Non-trainable params: 384\n",
            "_________________________________________________________________\n"
          ],
          "name": "stdout"
        }
      ]
    },
    {
      "cell_type": "code",
      "metadata": {
        "id": "1n3MIhdg7gKd",
        "colab_type": "code",
        "colab": {
          "base_uri": "https://localhost:8080/",
          "height": 374
        },
        "outputId": "79257709-0661-49b4-ba16-f034d1d15d69"
      },
      "source": [
        "# 這裡必需使用Model來做比較複雜的模型\n",
        "noise = Input(shape=(random_dim,))\n",
        "# 我們的標籤輸入 輸入只有一個維度 (1, )的,是為了讓小括號被當成tuple\n",
        "# 否則會被當成普通的()\n",
        "label = Input(shape=(1,), dtype='int32')\n",
        "# 使用Embedding得到100向量\n",
        "# input_dim = 10 -> 0~9\n",
        "# output_dim = 100 -> 100維度的向量\n",
        "# 接著使用Flatten把(1, 100)轉化成為(100)\n",
        "label_embedding = Flatten()(Embedding(input_dim = 10, output_dim = random_dim)(label))\n",
        "# 把靈感和標籤乘起來\n",
        "model_input = multiply([noise, label_embedding])\n",
        "# 經過我們上面的Generator做出圖片\n",
        "img = generator(model_input)\n",
        "# 完整的generator\n",
        "# inputs = [noise, label] -> [靈感, 標籤]\n",
        "# outputs = img -> 創作圖片\n",
        "cgenerator = Model([noise, label], img)\n",
        "cgenerator.summary()"
      ],
      "execution_count": 21,
      "outputs": [
        {
          "output_type": "stream",
          "text": [
            "Model: \"model_4\"\n",
            "__________________________________________________________________________________________________\n",
            "Layer (type)                    Output Shape         Param #     Connected to                     \n",
            "==================================================================================================\n",
            "input_8 (InputLayer)            (None, 1)            0                                            \n",
            "__________________________________________________________________________________________________\n",
            "embedding_3 (Embedding)         (None, 1, 100)       1000        input_8[0][0]                    \n",
            "__________________________________________________________________________________________________\n",
            "input_7 (InputLayer)            (None, 100)          0                                            \n",
            "__________________________________________________________________________________________________\n",
            "flatten_5 (Flatten)             (None, 100)          0           embedding_3[0][0]                \n",
            "__________________________________________________________________________________________________\n",
            "multiply_3 (Multiply)           (None, 100)          0           input_7[0][0]                    \n",
            "                                                                 flatten_5[0][0]                  \n",
            "__________________________________________________________________________________________________\n",
            "sequential_3 (Sequential)       (None, 28, 28)       1028673     multiply_3[0][0]                 \n",
            "==================================================================================================\n",
            "Total params: 1,029,673\n",
            "Trainable params: 1,029,289\n",
            "Non-trainable params: 384\n",
            "__________________________________________________________________________________________________\n"
          ],
          "name": "stdout"
        }
      ]
    },
    {
      "cell_type": "code",
      "metadata": {
        "colab_type": "code",
        "id": "KOHb4y4IoH8R",
        "outputId": "667de1d3-6362-459c-f30b-71907ffc3426",
        "colab": {
          "base_uri": "https://localhost:8080/",
          "height": 493
        }
      },
      "source": [
        "\n",
        "discriminator = Sequential()\n",
        "# 步長2卷積\n",
        "discriminator.add(Conv2D(32, kernel_size=4, \n",
        "                         strides=2, \n",
        "                         input_shape=(28, 28, 1), \n",
        "                         padding=\"same\",\n",
        "                         activation='relu'))\n",
        "# 我一樣會在兩層卷積中加入BN\n",
        "discriminator.add(BatchNormalization())\n",
        "discriminator.add(Conv2D(64, kernel_size=4, \n",
        "                         strides=2, \n",
        "                         padding=\"same\",\n",
        "                         activation='relu'))\n",
        "discriminator.add(BatchNormalization())\n",
        "discriminator.add(Conv2D(128, kernel_size=4, \n",
        "                         strides=2, \n",
        "                         padding=\"same\",\n",
        "                         activation='relu'))\n",
        "discriminator.add(BatchNormalization())\n",
        "# 開始全連接層(MLP)\n",
        "discriminator.add(Flatten())\n",
        "discriminator.add(Dense(256, activation='relu'))\n",
        "discriminator.add(Dropout(0.25))\n",
        "discriminator.add(Dense(1, activation='sigmoid'))\n",
        "discriminator.summary()"
      ],
      "execution_count": 22,
      "outputs": [
        {
          "output_type": "stream",
          "text": [
            "Model: \"sequential_4\"\n",
            "_________________________________________________________________\n",
            "Layer (type)                 Output Shape              Param #   \n",
            "=================================================================\n",
            "conv2d_10 (Conv2D)           (None, 14, 14, 32)        544       \n",
            "_________________________________________________________________\n",
            "batch_normalization_8 (Batch (None, 14, 14, 32)        128       \n",
            "_________________________________________________________________\n",
            "conv2d_11 (Conv2D)           (None, 7, 7, 64)          32832     \n",
            "_________________________________________________________________\n",
            "batch_normalization_9 (Batch (None, 7, 7, 64)          256       \n",
            "_________________________________________________________________\n",
            "conv2d_12 (Conv2D)           (None, 4, 4, 128)         131200    \n",
            "_________________________________________________________________\n",
            "batch_normalization_10 (Batc (None, 4, 4, 128)         512       \n",
            "_________________________________________________________________\n",
            "flatten_6 (Flatten)          (None, 2048)              0         \n",
            "_________________________________________________________________\n",
            "dense_5 (Dense)              (None, 256)               524544    \n",
            "_________________________________________________________________\n",
            "dropout_2 (Dropout)          (None, 256)               0         \n",
            "_________________________________________________________________\n",
            "dense_6 (Dense)              (None, 1)                 257       \n",
            "=================================================================\n",
            "Total params: 690,273\n",
            "Trainable params: 689,825\n",
            "Non-trainable params: 448\n",
            "_________________________________________________________________\n"
          ],
          "name": "stdout"
        }
      ]
    },
    {
      "cell_type": "code",
      "metadata": {
        "id": "F7J7JNUn7gKg",
        "colab_type": "code",
        "colab": {
          "base_uri": "https://localhost:8080/",
          "height": 442
        },
        "outputId": "48bee0bf-ade0-4b22-9bed-8eaaddfc151c"
      },
      "source": [
        "img = Input(shape=img_shape)\n",
        "# 得到標籤的 784 維度表示\n",
        "label = Input(shape=(1,), dtype='int32')\n",
        "label_embedding = Flatten()(Embedding(input_dim=10, output_dim=784)(label))\n",
        "flat_img = Flatten()(img)\n",
        "model_input = multiply([flat_img, label_embedding])\n",
        "model_input = Reshape((28, 28, 1))(model_input)\n",
        "validity = discriminator(model_input)\n",
        "cdiscriminator = Model([img, label], validity)\n",
        "cdiscriminator.compile(loss='binary_crossentropy', optimizer=\"adam\")\n",
        "cdiscriminator.summary()"
      ],
      "execution_count": 23,
      "outputs": [
        {
          "output_type": "stream",
          "text": [
            "Model: \"model_5\"\n",
            "__________________________________________________________________________________________________\n",
            "Layer (type)                    Output Shape         Param #     Connected to                     \n",
            "==================================================================================================\n",
            "input_10 (InputLayer)           (None, 1)            0                                            \n",
            "__________________________________________________________________________________________________\n",
            "input_9 (InputLayer)            (None, 28, 28)       0                                            \n",
            "__________________________________________________________________________________________________\n",
            "embedding_4 (Embedding)         (None, 1, 784)       7840        input_10[0][0]                   \n",
            "__________________________________________________________________________________________________\n",
            "flatten_8 (Flatten)             (None, 784)          0           input_9[0][0]                    \n",
            "__________________________________________________________________________________________________\n",
            "flatten_7 (Flatten)             (None, 784)          0           embedding_4[0][0]                \n",
            "__________________________________________________________________________________________________\n",
            "multiply_4 (Multiply)           (None, 784)          0           flatten_8[0][0]                  \n",
            "                                                                 flatten_7[0][0]                  \n",
            "__________________________________________________________________________________________________\n",
            "reshape_7 (Reshape)             (None, 28, 28, 1)    0           multiply_4[0][0]                 \n",
            "__________________________________________________________________________________________________\n",
            "sequential_4 (Sequential)       (None, 1)            690273      reshape_7[0][0]                  \n",
            "==================================================================================================\n",
            "Total params: 698,113\n",
            "Trainable params: 697,665\n",
            "Non-trainable params: 448\n",
            "__________________________________________________________________________________________________\n"
          ],
          "name": "stdout"
        }
      ]
    },
    {
      "cell_type": "code",
      "metadata": {
        "colab_type": "code",
        "id": "qqa2uN2GoK4b",
        "outputId": "392abe5f-10a7-4dd1-cc49-c3f85c1143e0",
        "colab": {
          "base_uri": "https://localhost:8080/",
          "height": 323
        }
      },
      "source": [
        "# 記得在組合網路的時候必須讓鑑賞家保持不動!\n",
        "cdiscriminator.trainable = False\n",
        "cgan_input = Input(shape=(random_dim,))\n",
        "cgan_label = Input(shape=(1, ))\n",
        "x = cgenerator([cgan_input, cgan_label])\n",
        "cgan_output = cdiscriminator([x, cgan_label])\n",
        "cgan = Model(inputs=[cgan_input, cgan_label], outputs=cgan_output)\n",
        "cgan.compile(loss='binary_crossentropy', optimizer=\"adam\")\n",
        "cgan.summary()"
      ],
      "execution_count": 24,
      "outputs": [
        {
          "output_type": "stream",
          "text": [
            "Model: \"model_6\"\n",
            "__________________________________________________________________________________________________\n",
            "Layer (type)                    Output Shape         Param #     Connected to                     \n",
            "==================================================================================================\n",
            "input_11 (InputLayer)           (None, 100)          0                                            \n",
            "__________________________________________________________________________________________________\n",
            "input_12 (InputLayer)           (None, 1)            0                                            \n",
            "__________________________________________________________________________________________________\n",
            "model_4 (Model)                 (None, 28, 28)       1029673     input_11[0][0]                   \n",
            "                                                                 input_12[0][0]                   \n",
            "__________________________________________________________________________________________________\n",
            "model_5 (Model)                 (None, 1)            698113      model_4[1][0]                    \n",
            "                                                                 input_12[0][0]                   \n",
            "==================================================================================================\n",
            "Total params: 1,727,786\n",
            "Trainable params: 1,029,289\n",
            "Non-trainable params: 698,497\n",
            "__________________________________________________________________________________________________\n"
          ],
          "name": "stdout"
        }
      ]
    },
    {
      "cell_type": "code",
      "metadata": {
        "colab_type": "code",
        "id": "3klx6TTZoN7Y",
        "outputId": "385fc04c-aa98-4d79-9565-edf8c7037159",
        "colab": {
          "base_uri": "https://localhost:8080/",
          "height": 190
        }
      },
      "source": [
        "batch_size = 200\n",
        "epoch_count = 100\n",
        "\n",
        "for epoch in range(0, epoch_count):\n",
        "    for batch_count in range(0, 300):\n",
        "        idx = np.random.randint(0, x_train.shape[0], batch_size)\n",
        "        imgs = x_train_shaped[idx]\n",
        "        # 不一樣的點在這裡!我們有把訓練資料的標籤拿出來\n",
        "        labels = y_train[idx]\n",
        "        \n",
        "        valid = np.ones((batch_size, 1))\n",
        "        fake = np.zeros((batch_size, 1))\n",
        "        # 步驟0:讓創作家製造出fake image\n",
        "        noise = np.random.normal(0, 1, (batch_size, random_dim))\n",
        "        # 跟普通GAN不一樣, 帶入了標籤部分\n",
        "        gen_imgs = cgenerator.predict([noise, labels])\n",
        "        # gen_imgs = Reshape((200, 28, 28))(gen_imgs)\n",
        "        # 步驟1:讓鑑賞家鑑賞對的image\n",
        "        d_loss_real = cdiscriminator.train_on_batch([imgs, labels], valid)\n",
        "        # 步驟2:讓鑑賞家鑑賞錯的image\n",
        "        d_loss_fake = cdiscriminator.train_on_batch([gen_imgs, labels], fake)\n",
        "        d_loss = (d_loss_real + d_loss_fake) / 2\n",
        "\n",
        "        noise = np.random.normal(0, 1, (batch_size, random_dim))\n",
        "        # 步驟3:訓練創作家的創作能力\n",
        "        g_loss = cgan.train_on_batch([noise, labels], valid)\n",
        "\n",
        "    if (epoch + 1) % 10 == 0:\n",
        "        dash = \"-\" * 15\n",
        "        print(dash, \"epoch\", epoch + 1, dash)\n",
        "        print(\"Discriminator loss:\", d_loss)\n",
        "        print(\"Generator loss:\", g_loss)\n",
        "\n"
      ],
      "execution_count": 0,
      "outputs": [
        {
          "output_type": "stream",
          "text": [
            "/usr/local/lib/python3.6/dist-packages/keras/engine/training.py:493: UserWarning: Discrepancy between trainable weights and collected trainable weights, did you set `model.trainable` without calling `model.compile` after ?\n",
            "  'Discrepancy between trainable weights and collected trainable'\n",
            "/usr/local/lib/python3.6/dist-packages/keras/engine/training.py:493: UserWarning: Discrepancy between trainable weights and collected trainable weights, did you set `model.trainable` without calling `model.compile` after ?\n",
            "  'Discrepancy between trainable weights and collected trainable'\n",
            "/usr/local/lib/python3.6/dist-packages/keras/engine/training.py:493: UserWarning: Discrepancy between trainable weights and collected trainable weights, did you set `model.trainable` without calling `model.compile` after ?\n",
            "  'Discrepancy between trainable weights and collected trainable'\n"
          ],
          "name": "stderr"
        },
        {
          "output_type": "stream",
          "text": [
            "--------------- epoch 10 ---------------\n",
            "Discriminator loss: 0.007914029061794281\n",
            "Generator loss: 0.0881186\n"
          ],
          "name": "stdout"
        }
      ]
    },
    {
      "cell_type": "code",
      "metadata": {
        "colab_type": "code",
        "id": "2bean_-XoQ7A",
        "colab": {}
      },
      "source": [
        "import matplotlib.pyplot as plt\n",
        "%matplotlib inline\n",
        "noise = np.random.normal(0, 1, (10, random_dim))\n",
        "sampled_labels = np.arrang([0,9,6,3,0,3,2,5,5,0]).reshape(-1, 1)\n",
        "\n",
        "gen_imgs = cgenerator.predict([noise, sampled_labels])\n",
        "\n",
        "# Rescale images 0 - 1\n",
        "gen_imgs = 0.5 * gen_imgs + 0.5\n",
        "gen_imgs = gen_imgs.reshape(10, 28, 28)\n",
        "plt.figure(figsize = (14, 14))\n",
        "# range(0, 10)產生出十種不同label(0 - 9) 針對性的產生我們要的數字\n",
        "for i in range(0, 10):\n",
        "    plt.subplot(1, 10, i + 1)\n",
        "    plt.axis(\"off\")\n",
        "    plt.imshow(gen_imgs[i], cmap='gray')"
      ],
      "execution_count": 0,
      "outputs": []
    }
  ]
}